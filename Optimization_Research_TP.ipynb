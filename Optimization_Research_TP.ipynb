{
  "nbformat": 4,
  "nbformat_minor": 0,
  "metadata": {
    "colab": {
      "name": "Optimization Research TP.ipynb",
      "provenance": []
    },
    "kernelspec": {
      "name": "python3",
      "display_name": "Python 3"
    },
    "language_info": {
      "name": "python"
    }
  },
  "cells": [
    {
      "cell_type": "code",
      "metadata": {
        "colab": {
          "base_uri": "https://localhost:8080/"
        },
        "id": "G9CWRFdjLqNC",
        "outputId": "c9206858-9fa0-4c9c-99c2-e1bb4a6a4f36"
      },
      "source": [
        "'''\n",
        "TP-Submission:\n",
        "1. Kushagra Singh BISEN (CPS2)\n",
        "2. Anasuya DASGUPTA (MLDM)\n",
        "\n",
        "We have also attached the report.\n",
        "'''\n",
        "\n",
        "#Question 1\n",
        "\n",
        "import cvxpy as cp\n",
        "# Scaler Optimization Variables\n",
        "x = cp.Variable()\n",
        "y = cp.Variable()\n",
        "# The constraints\n",
        "constraints = [x + y == 1, x - y >= 1]\n",
        "# Objective.\n",
        "obj = cp.Minimize((x - y)**2)\n",
        "# Solving the problem\n",
        "prob = cp.Problem(obj, constraints)\n",
        "prob.solve() # Returns the optimal value.\n",
        "print(\"status: {}\".format(prob.status))\n",
        "print(\"optimal value: {}\".format(prob.value))\n",
        "print(\"optimal variables: x is \",x.value, \" and for y it is: {:.2f}\".format(y.value)) "
      ],
      "execution_count": 2,
      "outputs": [
        {
          "output_type": "stream",
          "text": [
            "status: optimal\n",
            "optimal value: 1.0\n",
            "optimal variables: x is  1.0  and for y it is: 0.00\n"
          ],
          "name": "stdout"
        }
      ]
    },
    {
      "cell_type": "code",
      "metadata": {
        "colab": {
          "base_uri": "https://localhost:8080/"
        },
        "id": "jBEukO5DL83w",
        "outputId": "ebc7f4b7-5f93-4c50-fcae-4ff193b07a9f"
      },
      "source": [
        "'''\n",
        "Question 2.1 Problem 1\n",
        "'''\n",
        "#Scalar optimization variables.\n",
        "x_1 = cp.Variable()\n",
        "x_2 = cp.Variable()\n",
        "# Objective\n",
        "obj = cp.Minimize((x_1 - 4)**2 + 7*((x_2 - 4)**2) + 4*(x_2**2))\n",
        "# Solving the problem.\n",
        "prob = cp.Problem(obj)\n",
        "prob.solve() # Returns the optimal value.\n",
        "print(\"Status of the problem: {}\".format(prob.status))\n",
        "print(\"Optimal Value: {:.2f}\".format(prob.value))\n",
        "print(\"optimal variables: x is {} and for y it will be {:.2f}\".format(x_1.value, x_2.value))"
      ],
      "execution_count": 3,
      "outputs": [
        {
          "output_type": "stream",
          "text": [
            "Status of the problem: optimal\n",
            "Optimal Value: 40.73\n",
            "optimal variables: x is 4.0 and for y it will be 2.55\n"
          ],
          "name": "stdout"
        }
      ]
    },
    {
      "cell_type": "markdown",
      "metadata": {
        "id": "oypTthrfNGRz"
      },
      "source": [
        "Question 2.2\n",
        "\n",
        "Problem 2\n",
        "\n"
      ]
    },
    {
      "cell_type": "code",
      "metadata": {
        "colab": {
          "base_uri": "https://localhost:8080/"
        },
        "id": "Q7UVKseeNQrf",
        "outputId": "88b4c2d1-4e50-4d38-fe6c-87652586b570"
      },
      "source": [
        "x1 = cp.Variable()\n",
        "x2 = cp.Variable()\n",
        "x3 = cp.Variable()\n",
        "function = x1**3 + (x2 - x3)**2 + (x3)**3 + 2\n",
        "#Declaring the objective function.\n",
        "objective = cp.Minimize(function)\n",
        "#The problem is\n",
        "problem = cp.Problem(objective)\n",
        "print(\"Convex/Concave: {}\".format(function.curvature))\n",
        "print(\"Value: {:.2f}\".format(problem.solve()))\n",
        "print(\"The status of the problem is: {}\".format(problem.status))\n",
        "print(\"The value of optimal x1 is {:.6f}\".format(x1.value))\n",
        "print(\"The value of optimal x2 is {:.6f}\".format(x2.value))\n",
        "print(\"The value of optimal x2 is {:.6f}\".format(x3.value))"
      ],
      "execution_count": 4,
      "outputs": [
        {
          "output_type": "stream",
          "text": [
            "Convex/Concave: CONVEX\n",
            "Value: 2.00\n",
            "The status of the problem is: optimal\n",
            "The value of optimal x1 is 0.000826\n",
            "The value of optimal x2 is 0.000826\n",
            "The value of optimal x2 is 0.000826\n"
          ],
          "name": "stdout"
        }
      ]
    },
    {
      "cell_type": "code",
      "metadata": {
        "colab": {
          "base_uri": "https://localhost:8080/"
        },
        "id": "pQqT6QMwMbAo",
        "outputId": "f615beef-7ccf-4518-eed0-cd55bc846ab6"
      },
      "source": [
        "'''\n",
        "Question 2.3 Problem 3\n",
        "'''\n",
        "#Optimization Variables\n",
        "y1 = cp.Variable()\n",
        "y2 = cp.Variable()\n",
        "# Given constraint.\n",
        "constraints = [-y1 - y2 <= -4]\n",
        "# Objective Function.\n",
        "obj = cp.Minimize((y1 - 2)**2 + 3*y2)\n",
        "# Solving the problem. \n",
        "problem = cp.Problem(obj, constraints)\n",
        "problem.solve() # Returns the optimal value.\n",
        "print(\"Status of the problem: {}\".format(problem.status))\n",
        "print(\"Optimal Value: {:.2f}\".format(problem.value))\n",
        "print(\"Optimal Variables are for x it is {} and for y it is {}\".format(y1.value, y2.value))"
      ],
      "execution_count": 7,
      "outputs": [
        {
          "output_type": "stream",
          "text": [
            "Status of the problem: optimal\n",
            "Optimal Value: 3.75\n",
            "Optimal Variables are for x it is 3.5 and for y it is 0.5\n"
          ],
          "name": "stdout"
        }
      ]
    },
    {
      "cell_type": "code",
      "metadata": {
        "colab": {
          "base_uri": "https://localhost:8080/"
        },
        "id": "C2euEu66M6pc",
        "outputId": "8b5de947-aa96-4dee-a314-829382e1dc50"
      },
      "source": [
        "y1 = cp.Variable()\n",
        "y2 = cp.Variable()\n",
        "function = ((y1-2)**2 + 3*y2)\n",
        "c1 = -y1-y2+4 #adding +4 on both sides of the inequality.\n",
        "obj = cp.Minimize(function)\n",
        "\n",
        "mu = 0.00001 #log-barrier variable\n",
        "obj = cp.Minimize(function - mu*cp.log(-c1))\n",
        "problem = cp.Problem(obj)\n",
        "print(\"{:.2f}\".format(problem.solve())) # Returns the optimal value.\n",
        "print(\"Status of the problem: {}\".format(problem.status))\n",
        "print(\"Optimal Value: {:.2f}\".format(problem.value))\n",
        "print(\"Optimal Variables are for x it is {:.2f} and for y it is {:.2f}\".format(y1.value, y2.value))"
      ],
      "execution_count": 5,
      "outputs": [
        {
          "output_type": "stream",
          "text": [
            "3.75\n",
            "Status of the problem: optimal\n",
            "Optimal Value: 3.75\n",
            "Optimal Variables are for x it is 3.50 and for y it is 0.50\n"
          ],
          "name": "stdout"
        }
      ]
    },
    {
      "cell_type": "code",
      "metadata": {
        "colab": {
          "base_uri": "https://localhost:8080/"
        },
        "id": "tjWcunheOBd3",
        "outputId": "b99cdcba-65e5-491c-c8e5-12a4e990b704"
      },
      "source": [
        "'''\n",
        "Question 3.1\n",
        "\n",
        "Water Resources Problem\n",
        "'''\n",
        "\n",
        "#Variables\n",
        "x = cp.Variable()\n",
        "y = cp.Variable()\n",
        "\n",
        "constraint_1 = (y<=100)\n",
        "constraint_2 = (y>=0)\n",
        "constraint_3 = ((50*x + 250*y) <= 100*(x+y))\n",
        "constraint_4 = (x+y==500)\n",
        "\n",
        "constraints = [constraint_1, constraint_2, constraint_3, constraint_4]\n",
        "\n",
        "function = 100*x + 50*y\n",
        "\n",
        "objective = cp.Minimize(function)\n",
        "problem = cp.Problem(objective, constraints)\n",
        "problem.solve()\n",
        "\n",
        "print(\"Cost ==> {:.2f}\".format(problem.solve())) # Returns the optimal value.\n",
        "print(\"Status of the problem: {}\".format(problem.status))\n",
        "print(\"Optimal Value: {:.2f}\".format(problem.value))\n",
        "print(\"Optimal Variables are for x it is {:.2f} and for y it is {:.2f}\".format(x.value, y.value))"
      ],
      "execution_count": 20,
      "outputs": [
        {
          "output_type": "stream",
          "text": [
            "Cost ==> 45000.00\n",
            "Status of the problem: optimal\n",
            "Optimal Value: 45000.00\n",
            "Optimal Variables are for x it is 400.00 and for y it is 100.00\n"
          ],
          "name": "stdout"
        }
      ]
    },
    {
      "cell_type": "markdown",
      "metadata": {
        "id": "za6HxfyzRtWE"
      },
      "source": [
        "Question 3.2\n",
        "\n",
        "Good smelling Perfume Design\n",
        "\n",
        "\n"
      ]
    },
    {
      "cell_type": "code",
      "metadata": {
        "id": "9vT86cJER24B",
        "colab": {
          "base_uri": "https://localhost:8080/"
        },
        "outputId": "895b8512-4756-44c2-cca2-7f6b7d8cf88f"
      },
      "source": [
        "blend_1 = cp.Variable() \n",
        "\n",
        "blend_2 = cp.Variable() \n",
        "\n",
        "blend_3 = cp.Variable() \n",
        "\n",
        "blend_4 = cp.Variable()\n",
        "\n",
        "sum_of_blends = blend_1 + blend_2 + blend_3 + blend_4\n",
        "\n",
        "function = 55*blend_1+65*blend_2+35*blend_3+85*blend_4\n",
        "\n",
        "constraint_1 = (0.30*blend_1+0.2*blend_2+0.40*blend_3+0.2*blend_4<=0.35 *(sum_of_blends))\n",
        "constraint_2 = (0.35*blend_1+0.6*blend_2+0.35*blend_3+0.4*blend_4<=0.5 *(sum_of_blends))\n",
        "constraint_3 = (0.20*blend_1+0.15*blend_2+0.05*blend_3+0.30*blend_4>=0.19 *(sum_of_blends))\n",
        "constraint_4 = (0.15*blend_1+0.05*blend_2+0.20*blend_3+0.10*blend_4>=0.08 *(sum_of_blends))\n",
        "constraint_5 = (0.15*blend_1+0.05*blend_2+0.20*blend_3+0.10*blend_4<=0.13 *(sum_of_blends))\n",
        "constraint_6 = (blend_1>=0.05)\n",
        "constraint_7 = (blend_2<=0.2)\n",
        "constraint_8 = (blend_3>=0.3)\n",
        "constraint_9 = (blend_2>=0.11)\n",
        "constraint_10 = (blend_2<=0.24)\n",
        "constraint_11 = (sum_of_blends==1)\n",
        "\n",
        "constraints = [constraint_1, constraint_2, constraint_3, constraint_4, constraint_5, constraint_6, constraint_7, constraint_8, constraint_9, constraint_10, constraint_11]\n",
        "\n",
        "objective = cp.Minimize(function)\n",
        "\n",
        "problem = cp.Problem(objective, constraints)\n",
        "problem.solve()\n",
        "print(\"Status of the problem is {}\".format(problem.status))\n",
        "print(\"Optimal Price is {:.2f}€\".format(prob.value))\n",
        "print(\"Optimal Ratios for the blends are ===>\\n Blend 1 --> {:.2f}% \\n Blend 2 --> {:.2f}% \\n Blend 3 --> {:.2f}% \\n Blend 4 --> {:.2f}% \\n\".format(100*blend_1.value, 100*blend_2.value, 100*blend_3.value, 100*blend_4.value))"
      ],
      "execution_count": 57,
      "outputs": [
        {
          "output_type": "stream",
          "text": [
            "Status of the problem is optimal\n",
            "Optimal Price is 63.00€\n",
            "Optimal Ratios for the blends are ===>\n",
            " Blend 1 --> 14.00% \n",
            " Blend 2 --> 14.00% \n",
            " Blend 3 --> 30.00% \n",
            " Blend 4 --> 42.00% \n",
            "\n"
          ],
          "name": "stdout"
        }
      ]
    },
    {
      "cell_type": "markdown",
      "metadata": {
        "id": "Te_JWWK0fl6d"
      },
      "source": [
        "Question 3.3\n",
        "\n",
        "Roadway Expenses\n",
        "\n"
      ]
    },
    {
      "cell_type": "code",
      "metadata": {
        "colab": {
          "base_uri": "https://localhost:8080/"
        },
        "id": "keOSyQUift-J",
        "outputId": "b701bc24-7667-468d-8516-9ccb82d9f995"
      },
      "source": [
        "#Declaring the variables\n",
        "x_urban = cp.Variable()\n",
        "x_rural = cp.Variable()\n",
        "B_rural = cp.Variable()\n",
        "B_urban = cp.Variable()\n",
        "#Constraints\n",
        "constraints = [x_rural+x_urban==200,\n",
        "               x_rural>=0,x_urban>=0,B_rural>=0,B_urban>=0, \n",
        "               B_rural<=7000*cp.log(1+x_rural),\n",
        "               B_urban<=5000*cp.log(1+x_urban)]\n",
        "\n",
        "obj = cp.Maximize(B_rural+B_urban-x_rural-x_urban)\n",
        "prob = cp.Problem(obj, constraints)\n",
        "prob.solve() \n",
        "print(\"Status of the problem is \", prob.status)\n",
        "print(\"Optimal benefit is {:.2f} M€ \".format(prob.value))\n",
        "print(\"Optimal value for expenditure in rural is {:.2f}M€ and in urban is {:.2f} M€. Meanwhile, the benefit in rural is {:.2f} M€ and in urban is {:.2f} M€\".format(x_rural.value,x_urban.value, B_rural.value,B_urban.value))"
      ],
      "execution_count": 28,
      "outputs": [
        {
          "output_type": "stream",
          "text": [
            "Status of the problem is  optimal\n",
            "Optimal benefit is 55348.89 M€ \n",
            "Optimal value for expenditure in rural is 116.83M€ and in urban is 83.17 M€. Meanwhile, the benefit in rural is 33384.89 M€ and in urban is 22164.00 M€\n"
          ],
          "name": "stdout"
        }
      ]
    },
    {
      "cell_type": "code",
      "metadata": {
        "colab": {
          "base_uri": "https://localhost:8080/"
        },
        "id": "F-BH3-SWf3U6",
        "outputId": "9f9e9e8a-50e5-4637-d131-70d9d69d16d1"
      },
      "source": [
        "'''\n",
        "Question 3.4\n",
        "\n",
        "'''\n",
        "day_1 = cp.Variable() \n",
        "day_2 = cp.Variable() \n",
        "day_3 = cp.Variable()\n",
        "day_4 = cp.Variable() \n",
        "day_5 = cp.Variable()\n",
        "#Constraints\n",
        "\n",
        "#Constraint 1:total calories of the whole week behind the food shouldnot exceed 1000\n",
        "#Constraint 2: total rice consumption of the week should not exceed 600 gm ie 780 calories ie, 0.78 of the total permeable calories consuption through the week\n",
        "constraints = [(day_1+ day_2+ day_3+ day_4+ day_5 <=1200),\n",
        "               (0.33*day_1)+(0.29*day_4)+(0.32*day_5)<=(0.65*(day_1+day_2+day_3+day_4+day_5)),\n",
        "                day_1>=30,\n",
        "                day_2>=50,\n",
        "                day_3>=50,\n",
        "                day_4>=70,\n",
        "                day_5>=50]\n",
        "                # calorie content of day 1 cannot go less 30 ,\n",
        "                # calorie content of day 4 can not be less than 70 and others at 50\n",
        "\n",
        " \n",
        "obj = cp.Minimize(6*day_1 + 2*day_2 + 3*day_3 + 4*day_4 + 7*day_5)\n",
        "\n",
        "# Form and solve problem.\n",
        "prob = cp.Problem(obj, constraints)\n",
        "prob.solve() # Returns the optimal value.\n",
        "print(\"Status of the problem is {}\".format(prob.status))\n",
        "print(\"Optimal value of the cost is {:.2f}\".format(prob.value))\n",
        "print(\"Optimal variables are ===> \\n{:.2f}\\n{:.2f}\\n{:.2f}\\n{:.2f}\\n{:.2f} \".format(day_1.value,day_2.value, day_3.value,day_4.value,day_5.value))\n",
        "\n"
      ],
      "execution_count": 12,
      "outputs": [
        {
          "output_type": "stream",
          "text": [
            "Status of the problem is optimal\n",
            "Optimal value of the cost is 1060.00\n",
            "Optimal variables are ===> \n",
            "30.00\n",
            "50.00\n",
            "50.00\n",
            "70.00\n",
            "50.00 \n"
          ],
          "name": "stdout"
        }
      ]
    },
    {
      "cell_type": "markdown",
      "metadata": {
        "id": "9di9HcBTfQMa"
      },
      "source": [
        "Question 4.\n",
        "\n",
        "We tried to do the implementation using an SVM and Linear Regression.\n",
        "\n",
        "Below we have done using SVM."
      ]
    },
    {
      "cell_type": "code",
      "metadata": {
        "colab": {
          "base_uri": "https://localhost:8080/",
          "height": 418
        },
        "id": "WdG3F0VhfTj3",
        "outputId": "7248ecbc-4e77-4878-b3f2-d7e6b75ff7b7"
      },
      "source": [
        "from sklearn.datasets import make_blobs\n",
        "import numpy as np \n",
        "import matplotlib.pyplot as plt \n",
        "import pylab as pl\n",
        "import cvxpy as cp\n",
        "X, y = make_blobs(n_samples=100, centers=2, n_features=2,random_state=0)\n",
        "plt.scatter(X[:, 0], X[:, 1], c=y, cmap=plt.cm.coolwarm) #plot\n",
        "plt.show()\n",
        "C= 1.5\n",
        "m,n =X.shape\n",
        "print (y.shape)\n",
        "print(m,n)\n",
        "wt = cp.Variable((n,1))\n",
        "b = cp.Variable()\n",
        "xi = cp.Variable((m,1))\n",
        "xi_1=cp.Variable((m,1))\n",
        "wt_1=cp.Variable((n,1)) #weight\n",
        "objective_fn = cp.Minimize(1/2*cp.norm(wt)+C*sum(xi))\n",
        "objective_fn_norm_2= cp.Minimize(1/2*cp.norm(wt_1,2)+C*sum(xi_1))\n",
        "yy= y.reshape(100,1)\n",
        "print(yy.shape)\n",
        "constrain=[(cp.multiply(yy,(X*wt+b))>=(1-xi)),xi>=0]\n",
        "constrain_2=[(cp.multiply(yy,(X*wt_1+b))>=(1-xi_1)),xi_1>=0]\n",
        "prob = cp.Problem(objective_fn,constrain)\n",
        "prob_2=cp.Problem(objective_fn_norm_2, constrain_2)\n",
        "result = prob.solve() \n",
        "result_2=prob_2.solve()\n",
        "print(\"------------------------------------------------------\")\n",
        "print(\"Status of Norm 2 is {}\".format(prob_2.status))\n",
        "print(\"Optimal value of norm 2: {:.2f} \".format(prob_2.value))\n",
        "#print(\"Optimal variable\", wt_1.value,xi_1.value)\n",
        "print(\"------------------------------------------------------\")\n",
        "print(\"Status of Norm 1 is {} \".format(prob.status))\n",
        "print(\"Optimal value of Norm 1 is {:.2f}\".format(prob.value))\n",
        "# print(\"Optimal variable\",wt.value, xi.value)\n",
        "\n"
      ],
      "execution_count": 13,
      "outputs": [
        {
          "output_type": "display_data",
          "data": {
            "image/png": "[encoded data removed]",
            "text/plain": [
              "<Figure size 432x288 with 1 Axes>"
            ]
          },
          "metadata": {
            "tags": [],
            "needs_background": "light"
          }
        },
        {
          "output_type": "stream",
          "text": [
            "(100,)\n",
            "100 2\n",
            "(100, 1)\n",
            "------------------------------------------------------\n",
            "Status of Norm 2 is optimal\n",
            "Optimal value of norm 2: 75.00 \n",
            "------------------------------------------------------\n",
            "Status of Norm 1 is optimal \n",
            "Optimal value of Norm 1 is 75.00\n"
          ],
          "name": "stdout"
        }
      ]
    },
    {
      "cell_type": "markdown",
      "metadata": {
        "id": "L9UWnPzDfmk-"
      },
      "source": [
        "Linear Regression ==>"
      ]
    },
    {
      "cell_type": "code",
      "metadata": {
        "colab": {
          "base_uri": "https://localhost:8080/"
        },
        "id": "2-cml_omflch",
        "outputId": "0400da1f-c33f-4904-93c2-e68357bb5079"
      },
      "source": [
        "x_1 = cp.Variable(n)\n",
        "obj = cp.sum_squares(X @ x_1 - y)\n",
        "prob = cp.Problem(cp.Minimize(obj))\n",
        "prob.solve()\n",
        "print(\"The optimal value is {:.2f}\".format(prob.value))\n",
        "print(\"The optimal x is {}\".format(x_1.value))"
      ],
      "execution_count": 76,
      "outputs": [
        {
          "output_type": "stream",
          "text": [
            "The optimal value is 19.18\n",
            "The optimal x is [ 0.32540045 -0.0429165 ]\n"
          ],
          "name": "stdout"
        }
      ]
    },
    {
      "cell_type": "code",
      "metadata": {
        "id": "tWOIaCxKgywQ"
      },
      "source": [
        ""
      ],
      "execution_count": null,
      "outputs": []
    }
  ]
}